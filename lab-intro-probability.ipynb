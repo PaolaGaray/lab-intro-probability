{
 "cells": [
  {
   "cell_type": "markdown",
   "metadata": {},
   "source": [
    "# Lab | Intro to Probability"
   ]
  },
  {
   "cell_type": "markdown",
   "metadata": {},
   "source": [
    "**Objective**\n",
    "\n",
    "Welcome to this Intro to Probability lab, where we explore decision-making scenarios through the lens of probability and strategic analysis. In the business world, making informed decisions is crucial, especially when faced with uncertainties. This lab focuses on scenarios where probabilistic outcomes play a significant role in shaping strategies and outcomes. Students will engage in exercises that require assessing and choosing optimal paths based on data-driven insights. The goal is to enhance your skills by applying probability concepts to solve real-world problems."
   ]
  },
  {
   "cell_type": "markdown",
   "metadata": {},
   "source": [
    "**Challenge 1**"
   ]
  },
  {
   "cell_type": "markdown",
   "metadata": {},
   "source": [
    "#### Ironhack Airlines \n",
    "\n",
    "Often Airlines sell more tickets than they have seats available, this is called overbooking. Consider the following:\n",
    "- A plane has 450 seats. \n",
    "- Based on historical data we conclude that each individual passenger has a 3% chance of missing it's flight. \n",
    "\n",
    "If the Ironhack Airlines routinely sells 460 tickets, what is the chance that they have a seats for all passenger?"
   ]
  },
  {
   "cell_type": "code",
   "execution_count": 2,
   "metadata": {},
   "outputs": [
    {
     "name": "stdout",
     "output_type": "stream",
     "text": [
      "Probability that 450 or fewer passengers show up: 0.8505\n"
     ]
    }
   ],
   "source": [
    "#code here\n",
    "\n",
    "import scipy.stats as stats\n",
    "\n",
    "# Parameters\n",
    "n = 460  # total tickets sold\n",
    "p = 0.97  # probability a passenger shows up\n",
    "mean = n * p\n",
    "std_dev = (n * p * (1 - p)) ** 0.5\n",
    "\n",
    "# Calculate the z-score for 450 passengers\n",
    "z_score = (450 - mean) / std_dev\n",
    "\n",
    "# Find the probability using the cumulative distribution function (CDF)\n",
    "probability = stats.norm.cdf(z_score)\n",
    "\n",
    "print(f\"Probability that 450 or fewer passengers show up: {probability:.4f}\")"
   ]
  },
  {
   "cell_type": "markdown",
   "metadata": {},
   "source": [
    "__Conclusion:__ Ironhack Airlines has an approximately 84.9% chance that there will be enough seats for all passengers who show up for the flight."
   ]
  },
  {
   "cell_type": "markdown",
   "metadata": {},
   "source": [
    "<br>\n",
    "<br>\n",
    "\n",
    "**Challenge 2**"
   ]
  },
  {
   "cell_type": "markdown",
   "metadata": {},
   "source": [
    "#### Ironhack Call Center "
   ]
  },
  {
   "cell_type": "markdown",
   "metadata": {},
   "source": [
    "Suppose a customer service representative at a call center is handling customer complaints. Consider the following:\n",
    "- The probability of successfully resolving a customer complaint on the first attempt is 0.3. \n",
    "\n",
    "\n",
    "What is the probability that the representative needs to make at least three attempts before successfully resolving a customer complaint?"
   ]
  },
  {
   "cell_type": "code",
   "execution_count": 13,
   "metadata": {},
   "outputs": [
    {
     "name": "stdout",
     "output_type": "stream",
     "text": [
      "Probability of needing at least 3 attempts: 0.49\n"
     ]
    }
   ],
   "source": [
    "# Probability of success\n",
    "p = 0.3\n",
    "\n",
    "# Probability of needing at least 3 attempts\n",
    "probability = (1 - p) ** 2\n",
    "\n",
    "print(f\"Probability of needing at least 3 attempts: {probability:.2f}\")"
   ]
  },
  {
   "cell_type": "markdown",
   "metadata": {},
   "source": [
    "<br>\n",
    "<br>\n",
    "\n",
    "**Challenge 3**"
   ]
  },
  {
   "cell_type": "markdown",
   "metadata": {},
   "source": [
    "#### Ironhack Website"
   ]
  },
  {
   "cell_type": "markdown",
   "metadata": {},
   "source": [
    "Consider a scenario related to Ironhack website traffic. Where:\n",
    "- our website takes on average 500 visits per hour.\n",
    "- the website's server is designed to handle up to 550 vists per hour.\n",
    "\n",
    "\n",
    "What is the probability of the website server being overwhelmed?"
   ]
  },
  {
   "cell_type": "code",
   "execution_count": 15,
   "metadata": {},
   "outputs": [
    {
     "name": "stdout",
     "output_type": "stream",
     "text": [
      "Probability of the server being overwhelmed: 0.0129\n"
     ]
    }
   ],
   "source": [
    "import scipy.stats as stats\n",
    "\n",
    "# Parameters\n",
    "lambda_ = 500  # average visits per hour\n",
    "max_capacity = 550  # server capacity\n",
    "\n",
    "# Calculate P(X > 550)\n",
    "probability_overwhelmed = 1 - stats.poisson.cdf(max_capacity, lambda_)\n",
    "\n",
    "print(f\"Probability of the server being overwhelmed: {probability_overwhelmed:.4f}\")\n"
   ]
  },
  {
   "cell_type": "markdown",
   "metadata": {},
   "source": [
    "<br>\n",
    "What is the probability of being overwhelmed at some point during a day? (consider 24hours)"
   ]
  },
  {
   "cell_type": "code",
   "execution_count": 20,
   "metadata": {},
   "outputs": [
    {
     "name": "stdout",
     "output_type": "stream",
     "text": [
      "Probability of being overwhelmed at least once during a day: 0.0331\n"
     ]
    }
   ],
   "source": [
    "# Probability of not being overwhelmed in a single hour\n",
    "p_not_overwhelmed = 1 - 0.0014\n",
    "\n",
    "# Probability of not being overwhelmed for 24 hours\n",
    "p_not_overwhelmed_24h = p_not_overwhelmed ** 24\n",
    "\n",
    "# Probability of being overwhelmed at least once in 24 hours\n",
    "p_overwhelmed_24h = 1 - p_not_overwhelmed_24h\n",
    "\n",
    "print(f\"Probability of being overwhelmed at least once during a day: {p_overwhelmed_24h:.4f}\")\n"
   ]
  },
  {
   "cell_type": "markdown",
   "metadata": {},
   "source": [
    "<br>\n",
    "<br>\n",
    "\n",
    "**Challenge 4**"
   ]
  },
  {
   "cell_type": "markdown",
   "metadata": {},
   "source": [
    "#### Ironhack Helpdesk"
   ]
  },
  {
   "cell_type": "markdown",
   "metadata": {},
   "source": [
    "Consider a scenario related to the time between arrivals of customers at a service desk.\n",
    "\n",
    "On average, a customers arrives every 10minutes.\n",
    "\n",
    "What is the probability that the next customer will arrive within the next 5 minutes?"
   ]
  },
  {
   "cell_type": "code",
   "execution_count": 22,
   "metadata": {},
   "outputs": [
    {
     "name": "stdout",
     "output_type": "stream",
     "text": [
      "Probability that the next customer arrives within 5 minutes: 0.3935\n"
     ]
    }
   ],
   "source": [
    "import math\n",
    "\n",
    "# Given values\n",
    "lambda_ = 1 / 10  # Average rate of arrivals (1 customer every 10 minutes)\n",
    "x = 5  # Time interval of interest (5 minutes)\n",
    "\n",
    "# Calculate the probability using the exponential distribution formula\n",
    "probability = 1 - math.exp(-lambda_ * x)\n",
    "\n",
    "print(f\"Probability that the next customer arrives within 5 minutes: {probability:.4f}\")"
   ]
  },
  {
   "cell_type": "markdown",
   "metadata": {},
   "source": [
    "If there is no customer for 15minutes, employees can that a 5minutes break.\n",
    "\n",
    "What is the probability an employee taking a break?"
   ]
  },
  {
   "cell_type": "code",
   "execution_count": 24,
   "metadata": {},
   "outputs": [
    {
     "name": "stdout",
     "output_type": "stream",
     "text": [
      "Probability that no customer arrives for 15 minutes (employee can take a break): 0.2231\n"
     ]
    }
   ],
   "source": [
    "# Given values\n",
    "lambda_ = 1 / 10  # Average rate of arrivals (1 customer every 10 minutes)\n",
    "x = 15  # Time interval (15 minutes)\n",
    "\n",
    "# Calculate the probability using the exponential distribution formula\n",
    "probability_no_arrival_15 = math.exp(-lambda_ * x)\n",
    "\n",
    "print(f\"Probability that no customer arrives for 15 minutes (employee can take a break): {probability_no_arrival_15:.4f}\")\n"
   ]
  },
  {
   "cell_type": "markdown",
   "metadata": {},
   "source": [
    "<br>\n",
    "<br>\n",
    "\n",
    "**Challenge 5**"
   ]
  },
  {
   "cell_type": "markdown",
   "metadata": {},
   "source": [
    "The weights of a certain species of birds follow a normal distribution with a mean weight of 150 grams and a standard deviation of 10 grams. \n",
    "\n",
    "- If we randomly select a bird, what is the probability that its weight is between 140 and 160 grams?"
   ]
  },
  {
   "cell_type": "code",
   "execution_count": 26,
   "metadata": {},
   "outputs": [
    {
     "name": "stdout",
     "output_type": "stream",
     "text": [
      "Probability that the bird's weight is between 140 and 160 grams: 0.6827\n"
     ]
    }
   ],
   "source": [
    "import scipy.stats as stats\n",
    "\n",
    "# Given parameters\n",
    "mu = 150  # Mean weight in grams\n",
    "sigma = 10  # Standard deviation in grams\n",
    "x1 = 140  # Lower bound\n",
    "x2 = 160  # Upper bound\n",
    "\n",
    "# Calculate the cumulative probabilities\n",
    "probability = stats.norm.cdf(x2, mu, sigma) - stats.norm.cdf(x1, mu, sigma)\n",
    "\n",
    "print(f\"Probability that the bird's weight is between 140 and 160 grams: {probability:.4f}\")"
   ]
  },
  {
   "cell_type": "markdown",
   "metadata": {},
   "source": [
    "<br>\n",
    "<br>\n",
    "\n",
    "**Challenge 6**"
   ]
  },
  {
   "cell_type": "markdown",
   "metadata": {},
   "source": [
    "If the lifetime (in hours) of a certain electronic component follows an exponential distribution with a mean lifetime of 50 hours, what is the probability that the component fails within the first 30 hours?"
   ]
  },
  {
   "cell_type": "code",
   "execution_count": 28,
   "metadata": {},
   "outputs": [
    {
     "name": "stdout",
     "output_type": "stream",
     "text": [
      "Probability that the component fails within 30 hours: 0.4512\n"
     ]
    }
   ],
   "source": [
    "import math\n",
    "\n",
    "# Given parameters\n",
    "lambda_ = 1 / 50  # Rate parameter (1/mean lifetime)\n",
    "x = 30  # Time of interest (30 hours)\n",
    "\n",
    "# Calculate the probability using the exponential CDF formula\n",
    "probability = 1 - math.exp(-lambda_ * x)\n",
    "\n",
    "print(f\"Probability that the component fails within 30 hours: {probability:.4f}\")"
   ]
  }
 ],
 "metadata": {
  "kernelspec": {
   "display_name": "Python 3 (ipykernel)",
   "language": "python",
   "name": "python3"
  },
  "language_info": {
   "codemirror_mode": {
    "name": "ipython",
    "version": 3
   },
   "file_extension": ".py",
   "mimetype": "text/x-python",
   "name": "python",
   "nbconvert_exporter": "python",
   "pygments_lexer": "ipython3",
   "version": "3.12.4"
  }
 },
 "nbformat": 4,
 "nbformat_minor": 4
}
